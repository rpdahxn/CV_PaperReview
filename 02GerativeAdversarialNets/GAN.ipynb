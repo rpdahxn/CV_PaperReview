{
  "nbformat": 4,
  "nbformat_minor": 0,
  "metadata": {
    "colab": {
      "name": "GAN.ipynb",
      "provenance": [],
      "authorship_tag": "ABX9TyPmabmKlP6/kKESNYWTOhW+",
      "include_colab_link": true
    },
    "kernelspec": {
      "name": "python3",
      "display_name": "Python 3"
    },
    "language_info": {
      "name": "python"
    }
  },
  "cells": [
    {
      "cell_type": "markdown",
      "metadata": {
        "id": "view-in-github",
        "colab_type": "text"
      },
      "source": [
        "<a href=\"https://colab.research.google.com/github/rpdahxn/CV_PaperReview/blob/main/GAN.ipynb\" target=\"_parent\"><img src=\"https://colab.research.google.com/assets/colab-badge.svg\" alt=\"Open In Colab\"/></a>"
      ]
    },
    {
      "cell_type": "markdown",
      "source": [
        "한빛미디어 'GAN첫걸음' 을 참고해서 작성한 코드입니다."
      ],
      "metadata": {
        "id": "ziGjlwfaDAbd"
      }
    },
    {
      "cell_type": "code",
      "execution_count": 1,
      "metadata": {
        "id": "2syBT054YNJN"
      },
      "outputs": [],
      "source": [
        "import torch\n",
        "import torch.nn as nn\n",
        "from torch.utils.data import Dataset\n",
        "\n",
        "import pandas, numpy, random\n",
        "import matplotlib.pyplot as plt"
      ]
    },
    {
      "cell_type": "code",
      "source": [
        "from google.colab import drive\n",
        "drive.mount('./mount')"
      ],
      "metadata": {
        "colab": {
          "base_uri": "https://localhost:8080/"
        },
        "id": "1WR9TGp9Q2Qp",
        "outputId": "e312ae67-70ce-45bd-c015-661baa1b1118"
      },
      "execution_count": 2,
      "outputs": [
        {
          "output_type": "stream",
          "name": "stdout",
          "text": [
            "Mounted at ./mount\n"
          ]
        }
      ]
    },
    {
      "cell_type": "code",
      "source": [
        "class MnistDataset(Dataset):\n",
        "\n",
        "  def __init__(self, csv_file):\n",
        "    self.data_df = pandas.read_csv(csv_file, header = None)\n",
        "    pass\n",
        "\n",
        "  # Dataset클래스에서 데이터셋을 상속받을 구현해야하는 특수 메서드 1\n",
        "  def __len__(self):\n",
        "    return len(self.data_df)\n",
        "\n",
        "  # 특수 메서드 2\n",
        "  def __getitem(self, index):\n",
        "    # 이미지 목표 레이블\n",
        "    label = self.data_df.iloc[index, 0]\n",
        "    target = torch.zeros((10))\n",
        "    target[label] = 1.0\n",
        "\n",
        "    # 0~255인 이미지를 0~1로 정규화\n",
        "    image_values = torch.FloatTensor(self.data_df.iloc[index, 1:].values) / 255.0\n",
        "\n",
        "    return label, target, image_values\n",
        "\n",
        "  def plot_image(self, index):\n",
        "    img = self.data_df.iloc[index, 1:].values.reshape(28, 28)\n",
        "    plt.title(\"label = \" + str(self.data_df.iloc[index, 0]))\n",
        "    plt.imshow(img, interpolation = 'none', cmap = 'Blues')\n",
        "    pass\n",
        "\n",
        "  pass"
      ],
      "metadata": {
        "id": "tOEtMVQTDw4W"
      },
      "execution_count": 15,
      "outputs": []
    },
    {
      "cell_type": "code",
      "source": [
        "mnist_dataset = MnistDataset('/content/mount/MyDrive/Colab Notebooks/mnist_data/mnist_train.csv')"
      ],
      "metadata": {
        "id": "sShB4KTUScYa"
      },
      "execution_count": 16,
      "outputs": []
    },
    {
      "cell_type": "code",
      "source": [
        "# 데이터 출력해보기\n",
        "\n",
        "mnist_dataset.plot_image(9)"
      ],
      "metadata": {
        "colab": {
          "base_uri": "https://localhost:8080/",
          "height": 281
        },
        "id": "K0iPw1r-SjTn",
        "outputId": "a05cfe85-c277-430a-e4fe-46cf997723fa"
      },
      "execution_count": 18,
      "outputs": [
        {
          "output_type": "display_data",
          "data": {
            "text/plain": [
              "<Figure size 432x288 with 1 Axes>"
            ],
            "image/png": "[encoded data removed]"
          },
          "metadata": {
            "needs_background": "light"
          }
        }
      ]
    },
    {
      "cell_type": "code",
      "source": [
        ""
      ],
      "metadata": {
        "id": "kwsmywh_SuY8"
      },
      "execution_count": null,
      "outputs": []
    }
  ]
}
